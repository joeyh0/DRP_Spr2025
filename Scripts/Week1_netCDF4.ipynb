{
 "cells": [
  {
   "cell_type": "code",
   "execution_count": 3,
   "metadata": {},
   "outputs": [
    {
     "name": "stdout",
     "output_type": "stream",
     "text": [
      "Defaulting to user installation because normal site-packages is not writeable\n",
      "Requirement already satisfied: netCDF4 in /Users/joey/Library/Python/3.9/lib/python/site-packages (1.7.2)\n",
      "Requirement already satisfied: cftime in /Users/joey/Library/Python/3.9/lib/python/site-packages (from netCDF4) (1.6.4.post1)\n",
      "Requirement already satisfied: certifi in /Users/joey/Library/Python/3.9/lib/python/site-packages (from netCDF4) (2025.1.31)\n",
      "Requirement already satisfied: numpy in /Users/joey/Library/Python/3.9/lib/python/site-packages (from netCDF4) (2.0.2)\n",
      "\u001b[33mWARNING: You are using pip version 21.2.4; however, version 25.0.1 is available.\n",
      "You should consider upgrading via the '/Library/Developer/CommandLineTools/usr/bin/python3 -m pip install --upgrade pip' command.\u001b[0m\n",
      "Note: you may need to restart the kernel to use updated packages.\n"
     ]
    }
   ],
   "source": [
    "pip install netCDF4"
   ]
  },
  {
   "cell_type": "code",
   "execution_count": 4,
   "metadata": {},
   "outputs": [],
   "source": [
    "import netCDF4 as nc\n",
    "import numpy as np\n",
    "import matplotlib.pyplot as plt"
   ]
  },
  {
   "cell_type": "code",
   "execution_count": 5,
   "metadata": {},
   "outputs": [],
   "source": [
    "data_precip = nc.Dataset(\"/Users/joey/Documents/GitHub/DRP_Spr2025/Data/data_accum.nc\", 'r')\n",
    "data_temp = nc.Dataset(\"/Users/joey/Documents/GitHub/DRP_Spr2025/Data/data_instant.nc\", 'r')\n"
   ]
  },
  {
   "cell_type": "code",
   "execution_count": 6,
   "metadata": {},
   "outputs": [
    {
     "data": {
      "text/plain": [
       "<class 'netCDF4.Dataset'>\n",
       "root group (NETCDF4 data model, file format HDF5):\n",
       "    GRIB_centre: ecmf\n",
       "    GRIB_centreDescription: European Centre for Medium-Range Weather Forecasts\n",
       "    GRIB_subCentre: 0\n",
       "    Conventions: CF-1.7\n",
       "    institution: European Centre for Medium-Range Weather Forecasts\n",
       "    history: 2025-04-06T21:07 GRIB to CDM+CF via cfgrib-0.9.15.0/ecCodes-2.39.0 with {\"source\": \"tmpxg3zsvxt/data.grib\", \"filter_by_keys\": {\"stream\": [\"oper\"], \"stepType\": [\"accum\"]}, \"encode_cf\": [\"parameter\", \"time\", \"geography\", \"vertical\"]}\n",
       "    dimensions(sizes): valid_time(672), latitude(13), longitude(9)\n",
       "    variables(dimensions): int64 number(), int64 valid_time(valid_time), float64 latitude(latitude), float64 longitude(longitude), <class 'str'> expver(valid_time), float32 tp(valid_time, latitude, longitude)\n",
       "    groups: "
      ]
     },
     "execution_count": 6,
     "metadata": {},
     "output_type": "execute_result"
    }
   ],
   "source": [
    "data_precip"
   ]
  },
  {
   "cell_type": "code",
   "execution_count": 19,
   "metadata": {},
   "outputs": [
    {
     "data": {
      "text/plain": [
       "{'valid_time': \"<class 'netCDF4.Dimension'>\": name = 'valid_time', size = 672,\n",
       " 'latitude': \"<class 'netCDF4.Dimension'>\": name = 'latitude', size = 13,\n",
       " 'longitude': \"<class 'netCDF4.Dimension'>\": name = 'longitude', size = 9}"
      ]
     },
     "execution_count": 19,
     "metadata": {},
     "output_type": "execute_result"
    }
   ],
   "source": [
    "data_precip.dimensions"
   ]
  },
  {
   "cell_type": "code",
   "execution_count": 20,
   "metadata": {},
   "outputs": [
    {
     "data": {
      "text/plain": [
       "{'number': <class 'netCDF4.Variable'>\n",
       " int64 number()\n",
       "     long_name: ensemble member numerical id\n",
       "     units: 1\n",
       "     standard_name: realization\n",
       " unlimited dimensions: \n",
       " current shape = ()\n",
       " filling on, default _FillValue of -9223372036854775806 used,\n",
       " 'valid_time': <class 'netCDF4.Variable'>\n",
       " int64 valid_time(valid_time)\n",
       "     long_name: time\n",
       "     standard_name: time\n",
       "     units: seconds since 1970-01-01\n",
       "     calendar: proleptic_gregorian\n",
       " unlimited dimensions: \n",
       " current shape = (672,)\n",
       " filling on, default _FillValue of -9223372036854775806 used,\n",
       " 'latitude': <class 'netCDF4.Variable'>\n",
       " float64 latitude(latitude)\n",
       "     _FillValue: nan\n",
       "     units: degrees_north\n",
       "     standard_name: latitude\n",
       "     long_name: latitude\n",
       "     stored_direction: decreasing\n",
       " unlimited dimensions: \n",
       " current shape = (13,)\n",
       " filling on,\n",
       " 'longitude': <class 'netCDF4.Variable'>\n",
       " float64 longitude(longitude)\n",
       "     _FillValue: nan\n",
       "     units: degrees_east\n",
       "     standard_name: longitude\n",
       "     long_name: longitude\n",
       " unlimited dimensions: \n",
       " current shape = (9,)\n",
       " filling on,\n",
       " 'expver': <class 'netCDF4.Variable'>\n",
       " vlen expver(valid_time)\n",
       " vlen data type: <class 'str'>\n",
       " unlimited dimensions: \n",
       " current shape = (672,),\n",
       " 'tp': <class 'netCDF4.Variable'>\n",
       " float32 tp(valid_time, latitude, longitude)\n",
       "     _FillValue: nan\n",
       "     GRIB_paramId: 228\n",
       "     GRIB_dataType: fc\n",
       "     GRIB_numberOfPoints: 117\n",
       "     GRIB_typeOfLevel: surface\n",
       "     GRIB_stepUnits: 1\n",
       "     GRIB_stepType: accum\n",
       "     GRIB_gridType: regular_ll\n",
       "     GRIB_uvRelativeToGrid: 0\n",
       "     GRIB_NV: 0\n",
       "     GRIB_Nx: 9\n",
       "     GRIB_Ny: 13\n",
       "     GRIB_cfName: unknown\n",
       "     GRIB_cfVarName: tp\n",
       "     GRIB_gridDefinitionDescription: Latitude/Longitude Grid\n",
       "     GRIB_iDirectionIncrementInDegrees: 0.25\n",
       "     GRIB_iScansNegatively: 0\n",
       "     GRIB_jDirectionIncrementInDegrees: 0.25\n",
       "     GRIB_jPointsAreConsecutive: 0\n",
       "     GRIB_jScansPositively: 0\n",
       "     GRIB_latitudeOfFirstGridPointInDegrees: 49.0\n",
       "     GRIB_latitudeOfLastGridPointInDegrees: 46.0\n",
       "     GRIB_longitudeOfFirstGridPointInDegrees: -122.0\n",
       "     GRIB_longitudeOfLastGridPointInDegrees: -120.0\n",
       "     GRIB_missingValue: 3.4028234663852886e+38\n",
       "     GRIB_name: Total precipitation\n",
       "     GRIB_shortName: tp\n",
       "     GRIB_totalNumber: 0\n",
       "     GRIB_units: m\n",
       "     long_name: Total precipitation\n",
       "     units: m\n",
       "     standard_name: unknown\n",
       "     GRIB_surface: 0.0\n",
       "     coordinates: number valid_time latitude longitude expver\n",
       " unlimited dimensions: \n",
       " current shape = (672, 13, 9)\n",
       " filling on}"
      ]
     },
     "execution_count": 20,
     "metadata": {},
     "output_type": "execute_result"
    }
   ],
   "source": [
    "data_precip.variables"
   ]
  },
  {
   "cell_type": "code",
   "execution_count": null,
   "metadata": {},
   "outputs": [
    {
     "name": "stdout",
     "output_type": "stream",
     "text": [
      "[49.   48.75 48.5  48.25 48.   47.75 47.5  47.25 47.   46.75 46.5  46.25\n",
      " 46.  ]\n",
      "[-122.   -121.75 -121.5  -121.25 -121.   -120.75 -120.5  -120.25 -120.  ]\n",
      "[[[2.77423859e-03 2.57778168e-03 2.15816498e-03 ... 3.34739685e-04\n",
      "   2.37464905e-04 2.14576721e-04]\n",
      "  [2.93064117e-03 2.73513794e-03 2.30789185e-03 ... 3.55720520e-04\n",
      "   2.54631042e-04 2.50816345e-04]\n",
      "  [2.62260437e-03 2.37846375e-03 2.02178955e-03 ... 6.58035278e-04\n",
      "   4.43458557e-04 2.98500061e-04]\n",
      "  ...\n",
      "  [2.67601013e-03 2.61306763e-03 2.48146057e-03 ... 3.95774841e-04\n",
      "   2.37464905e-04 1.48773193e-04]\n",
      "  [3.08990479e-03 2.75611877e-03 2.60162354e-03 ... 3.15666199e-04\n",
      "   1.71661377e-04 1.51634216e-04]\n",
      "  [3.68309021e-03 3.15570831e-03 2.10380554e-03 ... 2.66075134e-04\n",
      "   1.18255615e-04 3.33786011e-05]]\n",
      "\n",
      " [[2.70462036e-03 2.70080566e-03 2.43091583e-03 ... 7.03811646e-04\n",
      "   4.72068787e-04 3.12328339e-04]\n",
      "  [3.02314758e-03 2.91728973e-03 2.63500214e-03 ... 7.24315643e-04\n",
      "   5.15460968e-04 4.13894653e-04]\n",
      "  [2.96449661e-03 2.88057327e-03 2.66838074e-03 ... 1.07765198e-03\n",
      "   7.58171082e-04 5.50270081e-04]\n",
      "  ...\n",
      "  [2.47859955e-03 2.60162354e-03 2.72893906e-03 ... 6.69479370e-04\n",
      "   4.32968140e-04 2.56538391e-04]\n",
      "  [2.82478333e-03 2.80427933e-03 2.89487839e-03 ... 6.44207001e-04\n",
      "   5.23090363e-04 6.84738159e-04]\n",
      "  [3.06034088e-03 2.89201736e-03 2.47812271e-03 ... 5.89370728e-04\n",
      "   3.95774841e-04 1.79767609e-04]]\n",
      "\n",
      " [[2.46381760e-03 2.30741501e-03 2.25400925e-03 ... 9.73701477e-04\n",
      "   7.18116760e-04 5.33103943e-04]\n",
      "  [2.43616104e-03 2.53009796e-03 2.48479843e-03 ... 1.06143951e-03\n",
      "   7.72953033e-04 5.75542450e-04]\n",
      "  [2.25353241e-03 2.45857239e-03 2.52580643e-03 ... 1.33991241e-03\n",
      "   9.75608826e-04 7.53879547e-04]\n",
      "  ...\n",
      "  [1.62839890e-03 1.79481506e-03 1.98936462e-03 ... 5.76972961e-04\n",
      "   4.01496887e-04 3.14712524e-04]\n",
      "  [1.90258026e-03 1.90353394e-03 1.89876556e-03 ... 5.64575195e-04\n",
      "   3.59058380e-04 2.18391418e-04]\n",
      "  [1.80101395e-03 1.63650513e-03 1.30414963e-03 ... 5.31196594e-04\n",
      "   3.44753265e-04 1.76429749e-04]]\n",
      "\n",
      " ...\n",
      "\n",
      " [[0.00000000e+00 0.00000000e+00 0.00000000e+00 ... 0.00000000e+00\n",
      "   0.00000000e+00 0.00000000e+00]\n",
      "  [0.00000000e+00 0.00000000e+00 0.00000000e+00 ... 0.00000000e+00\n",
      "   0.00000000e+00 0.00000000e+00]\n",
      "  [0.00000000e+00 0.00000000e+00 0.00000000e+00 ... 0.00000000e+00\n",
      "   0.00000000e+00 0.00000000e+00]\n",
      "  ...\n",
      "  [0.00000000e+00 0.00000000e+00 0.00000000e+00 ... 0.00000000e+00\n",
      "   0.00000000e+00 0.00000000e+00]\n",
      "  [0.00000000e+00 0.00000000e+00 0.00000000e+00 ... 0.00000000e+00\n",
      "   0.00000000e+00 0.00000000e+00]\n",
      "  [0.00000000e+00 0.00000000e+00 0.00000000e+00 ... 0.00000000e+00\n",
      "   0.00000000e+00 0.00000000e+00]]\n",
      "\n",
      " [[0.00000000e+00 0.00000000e+00 0.00000000e+00 ... 0.00000000e+00\n",
      "   0.00000000e+00 0.00000000e+00]\n",
      "  [0.00000000e+00 0.00000000e+00 0.00000000e+00 ... 0.00000000e+00\n",
      "   0.00000000e+00 0.00000000e+00]\n",
      "  [0.00000000e+00 0.00000000e+00 0.00000000e+00 ... 0.00000000e+00\n",
      "   0.00000000e+00 0.00000000e+00]\n",
      "  ...\n",
      "  [0.00000000e+00 0.00000000e+00 0.00000000e+00 ... 0.00000000e+00\n",
      "   0.00000000e+00 0.00000000e+00]\n",
      "  [0.00000000e+00 0.00000000e+00 0.00000000e+00 ... 0.00000000e+00\n",
      "   0.00000000e+00 0.00000000e+00]\n",
      "  [0.00000000e+00 0.00000000e+00 0.00000000e+00 ... 0.00000000e+00\n",
      "   0.00000000e+00 0.00000000e+00]]\n",
      "\n",
      " [[0.00000000e+00 0.00000000e+00 0.00000000e+00 ... 0.00000000e+00\n",
      "   0.00000000e+00 0.00000000e+00]\n",
      "  [0.00000000e+00 0.00000000e+00 0.00000000e+00 ... 0.00000000e+00\n",
      "   0.00000000e+00 0.00000000e+00]\n",
      "  [0.00000000e+00 0.00000000e+00 0.00000000e+00 ... 0.00000000e+00\n",
      "   0.00000000e+00 0.00000000e+00]\n",
      "  ...\n",
      "  [0.00000000e+00 0.00000000e+00 0.00000000e+00 ... 0.00000000e+00\n",
      "   0.00000000e+00 0.00000000e+00]\n",
      "  [0.00000000e+00 0.00000000e+00 0.00000000e+00 ... 0.00000000e+00\n",
      "   0.00000000e+00 0.00000000e+00]\n",
      "  [0.00000000e+00 0.00000000e+00 0.00000000e+00 ... 0.00000000e+00\n",
      "   0.00000000e+00 0.00000000e+00]]]\n"
     ]
    }
   ],
   "source": [
    "latitude_var = data_precip.variables['latitude'][:]\n",
    "print(latitude_var)\n",
    "longitude_var = data_precip.variables['longitude'][:]\n",
    "print(longitude_var)\n",
    "precip_var = data_precip.variables['tp'][:]\n",
    "print(precip_var)"
   ]
  },
  {
   "cell_type": "code",
   "execution_count": 17,
   "metadata": {},
   "outputs": [],
   "source": [
    "data_var = data_precip.variables['tp'][:]\n",
    "data = data_var[0, :, :]"
   ]
  },
  {
   "cell_type": "code",
   "execution_count": 18,
   "metadata": {},
   "outputs": [
    {
     "data": {
      "image/png": "[encoded data removed]",
      "text/plain": [
       "<Figure size 1000x800 with 2 Axes>"
      ]
     },
     "metadata": {},
     "output_type": "display_data"
    }
   ],
   "source": [
    "plt.figure(figsize=(10, 8))\n",
    "plt.pcolormesh(longitude_var, latitude_var, data)\n",
    "plt.colorbar(label='Temperature Units')  # Add a colorbar with appropriate label\n",
    "plt.xlabel('Longitude')\n",
    "plt.ylabel('Latitude')\n",
    "plt.title('Temperature Map')\n",
    "plt.grid(True)\n",
    "plt.show()"
   ]
  }
 ],
 "metadata": {
  "kernelspec": {
   "display_name": "Python 3",
   "language": "python",
   "name": "python3"
  },
  "language_info": {
   "codemirror_mode": {
    "name": "ipython",
    "version": 3
   },
   "file_extension": ".py",
   "mimetype": "text/x-python",
   "name": "python",
   "nbconvert_exporter": "python",
   "pygments_lexer": "ipython3",
   "version": "3.9.6"
  }
 },
 "nbformat": 4,
 "nbformat_minor": 2
}
